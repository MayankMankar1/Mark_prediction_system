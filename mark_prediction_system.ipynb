
# Import necessary libraries
import pandas as pd
import numpy as np
import matplotlib.pyplot as plt
%matplotlib inline

# Read the CSV file into a pandas dataframe
dataset = pd.read_csv(r"C:\Users\deshm\Downloads\EDS_DATA1.csv")

# Print the shape of the dataframe
print(dataset.shape)

# Print the first 60 rows of the dataframe
dataset.head(60)
(59, 2)
ATTENDANCE	U.T - 1
0	0	0
1	15	4
2	19	12
3	12	12
4	3	2
5	19	7
6	3	0
7	18	9
8	4	1
9	5	10
10	14	5
11	3	0
12	25	15
13	8	0
14	7	0
15	14	8
16	11	13
17	14	0
18	19	7
19	7	0
20	10	7
21	12	5
22	11	0
23	28	8
24	14	9
25	11	5
26	19	9
27	16	10
28	14	8
29	6	0
30	14	0
31	8	7
32	1	0
33	10	5
34	7	4
35	4	6
36	17	13
37	25	3
38	9	1
39	5	2
40	17	14
41	19	12
42	10	6
43	16	7
44	3	5
45	17	11
46	3	8
47	3	4
48	1	0
49	25	15
50	20	13
51	20	4
52	5	4
53	17	11
54	28	12
55	24	10
56	23	5
57	15	4
58	27	8
# read the CSV file using pandas and store it in a variable called dataset
# provide the correct path to the CSV file in the argument
dataset = pd.read_csv(r"C:\Users\deshm\Downloads\EDS_DATA1.csv")

# print the shape of the dataset
# shape attribute provides the number of rows and columns in the dataset
print(dataset.shape)

# display the first 5 rows of the dataset using the head() method
dataset.head()

# display statistical information about the dataset using the describe() method
# this includes count, mean, standard deviation, minimum and maximum values for each column
dataset.describe()
(59, 2)
ATTENDANCE	U.T - 1
count	59.000000	59.000000
mean	12.779661	6.101695
std	7.622715	4.585189
min	0.000000	0.000000
25%	6.500000	2.000000
50%	14.000000	6.000000
75%	18.500000	9.500000
max	28.000000	15.000000
# Plot the data points using Matplotlib
dataset.plot(x='ATTENDANCE', y='U.T - 1', style="*")

# Add title and axis labels to the plot
plt.title('Student mark prediction')
plt.xlabel('Attendance')
plt.ylabel('Scores')

# Display the plot
plt.show()

# Split the dataset into input (X) and output (Y) variables
X = dataset.iloc[:, :-1].values
Y = dataset.iloc[:, 1].values

# Split the dataset into training and testing data
X_train, X_test, Y_train, Y_test = train_test_split(X, Y, test_size=0.2, random_state=0)

# Create a Linear Regression model and fit it to the training data
regressor = LinearRegression()
regressor.fit(X_train, Y_train)

# Print the intercept and coefficients of the Linear Regression model
print(regressor.intercept_)
print(regressor.coef_)
1.2218903540867059
[0.36469736]
# Use the entire X dataset to make predictions
Y_pred = regressor.predict(X)

# Create a new DataFrame with actual and predicted values for all students
df = pd.DataFrame({'Actual': Y, 'Predicted': Y_pred})

# Print the DataFrame
print(df)
    Actual  Predicted
0        0   1.221890
1        4   6.692351
2       12   8.151140
3       12   5.598259
4        2   2.315982
5        7   8.151140
6        0   2.315982
7        9   7.786443
8        1   2.680680
9       10   3.045377
10       5   6.327653
11       0   2.315982
12      15  10.339324
13       0   4.139469
14       0   3.774772
15       8   6.327653
16      13   5.233561
17       0   6.327653
18       7   8.151140
19       0   3.774772
20       7   4.868864
21       5   5.598259
22       0   5.233561
23       8  11.433416
24       9   6.327653
25       5   5.233561
26       9   8.151140
27      10   7.057048
28       8   6.327653
29       0   3.410075
30       0   6.327653
31       7   4.139469
32       0   1.586588
33       5   4.868864
34       4   3.774772
35       6   2.680680
36      13   7.421745
37       3  10.339324
38       1   4.504167
39       2   3.045377
40      14   7.421745
41      12   8.151140
42       6   4.868864
43       7   7.057048
44       5   2.315982
45      11   7.421745
46       8   2.315982
47       4   2.315982
48       0   1.586588
49      15  10.339324
50      13   8.515838
51       4   8.515838
52       4   3.045377
53      11   7.421745
54      12  11.433416
55      10   9.974627
56       5   9.609930
57       4   6.692351
58       8  11.068719
 
